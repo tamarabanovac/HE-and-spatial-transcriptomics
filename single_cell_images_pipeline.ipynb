{
 "cells": [
  {
   "cell_type": "code",
   "execution_count": 1,
   "metadata": {},
   "outputs": [],
   "source": [
    "import sys\n",
    "sys.path.append(\"./utils/\")"
   ]
  },
  {
   "cell_type": "code",
   "execution_count": 2,
   "metadata": {},
   "outputs": [
    {
     "name": "stderr",
     "output_type": "stream",
     "text": [
      "2023-07-27 07:09:43.907165: I tensorflow/tsl/cuda/cudart_stub.cc:28] Could not find cuda drivers on your machine, GPU will not be used.\n",
      "2023-07-27 07:09:44.491434: I tensorflow/tsl/cuda/cudart_stub.cc:28] Could not find cuda drivers on your machine, GPU will not be used.\n",
      "2023-07-27 07:09:44.496211: I tensorflow/core/platform/cpu_feature_guard.cc:182] This TensorFlow binary is optimized to use available CPU instructions in performance-critical operations.\n",
      "To enable the following instructions: AVX2 AVX512F FMA, in other operations, rebuild TensorFlow with the appropriate compiler flags.\n",
      "2023-07-27 07:09:46.595903: W tensorflow/compiler/tf2tensorrt/utils/py_utils.cc:38] TF-TRT Warning: Could not find TensorRT\n"
     ]
    }
   ],
   "source": [
    "import HE_image_preprocess as himg\n",
    "import numpy as np\n",
    "import scipy as sp\n",
    "import matplotlib.pyplot as plt\n",
    "import cv2\n",
    "from PIL import Image\n",
    "import tifffile as tiff\n",
    "import os"
   ]
  },
  {
   "cell_type": "code",
   "execution_count": 3,
   "metadata": {},
   "outputs": [],
   "source": [
    "path_to_large_image = '/goofys/Milos/new_data/CytAssist_11mm_FFPE_Mouse_Embryo_tissue_image.tif' #path to HE image\n",
    "tiff_image = tiff.TiffFile(path_to_large_image)\n",
    "image = tiff_image.asarray() "
   ]
  },
  {
   "cell_type": "code",
   "execution_count": null,
   "metadata": {},
   "outputs": [],
   "source": [
    "plt.figure(figsize=(6, 6))\n",
    "plt.imshow(image)"
   ]
  },
  {
   "cell_type": "code",
   "execution_count": 4,
   "metadata": {},
   "outputs": [
    {
     "data": {
      "text/plain": [
       "0"
      ]
     },
     "execution_count": 4,
     "metadata": {},
     "output_type": "execute_result"
    }
   ],
   "source": [
    "#Splits a large HE image into segments of size segment_size and creates two folders: tissue_images and not_tissue_images. \n",
    "#The segments overlap by overlap_pixels (necessary for creating single-cell images).\n",
    "#The large HE image needs to be divided into smaller segments to enable segmentation\n",
    "himg.generate_tissue_images_from_HE_image(image, segment_size=(3000,3000), overlap_pixels=50)"
   ]
  },
  {
   "cell_type": "code",
   "execution_count": null,
   "metadata": {},
   "outputs": [],
   "source": [
    "#All segments containing tissue from the tissue_images folder are loaded, and segmentation is performed on them using the stardist model. \n",
    "#A new folder is created (masks) to store the segmentation masks\n",
    "himg.segmentation(tissue_images_folder_path='tissue_images')"
   ]
  },
  {
   "cell_type": "code",
   "execution_count": null,
   "metadata": {},
   "outputs": [],
   "source": [
    "#Creates single-cell images and segmentation masks for each of these images and stores them in two separate folders: single_cell_images and single_cell_masks.\n",
    "himg.generate_single_cell_images(path_to_tissue_images_folder='tissue_images', path_to_mask_folder='masks', overlap_pixels = 50, thresh = 40)"
   ]
  }
 ],
 "metadata": {
  "kernelspec": {
   "display_name": "Stardist",
   "language": "python",
   "name": "stardist"
  },
  "language_info": {
   "codemirror_mode": {
    "name": "ipython",
    "version": 3
   },
   "file_extension": ".py",
   "mimetype": "text/x-python",
   "name": "python",
   "nbconvert_exporter": "python",
   "pygments_lexer": "ipython3",
   "version": "3.8.17"
  },
  "orig_nbformat": 4
 },
 "nbformat": 4,
 "nbformat_minor": 2
}
